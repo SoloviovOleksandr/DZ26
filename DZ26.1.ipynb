{
 "cells": [
  {
   "cell_type": "code",
   "execution_count": null,
   "id": "72e5ba2c",
   "metadata": {},
   "outputs": [],
   "source": [
    "p(a) = 0.9, n = 100, q = 0.1, p([85, 95]) - ?\n",
    "P(|X-Mx|<=e)>= 1 - D(x²)/e²\n",
    "Mx = n*p = 100*0.9 = 90\n",
    "D = n*p*q = 90 * 0.1 = 9\n",
    "e = (wait - Mx)\n",
    "e = |85-90|,|95-90|= 5\n",
    "P(|X-90|<=5)>=1 - 9 /25 = 0.64"
   ]
  }
 ],
 "metadata": {
  "kernelspec": {
   "display_name": "Python 3 (ipykernel)",
   "language": "python",
   "name": "python3"
  },
  "language_info": {
   "codemirror_mode": {
    "name": "ipython",
    "version": 3
   },
   "file_extension": ".py",
   "mimetype": "text/x-python",
   "name": "python",
   "nbconvert_exporter": "python",
   "pygments_lexer": "ipython3",
   "version": "3.9.13"
  }
 },
 "nbformat": 4,
 "nbformat_minor": 5
}
